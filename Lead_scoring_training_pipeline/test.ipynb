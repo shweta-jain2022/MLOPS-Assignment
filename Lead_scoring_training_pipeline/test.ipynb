{
 "cells": [
  {
   "cell_type": "code",
   "execution_count": 2,
   "id": "79740d3a-2f2f-4728-ac39-9d0fb40f38a3",
   "metadata": {},
   "outputs": [
    {
     "name": "stdout",
     "output_type": "stream",
     "text": [
      "/home\n",
      "/home\n"
     ]
    }
   ],
   "source": [
    "%cd /home\n",
    "!pwd"
   ]
  },
  {
   "cell_type": "code",
   "execution_count": 3,
   "id": "c192e0df-7c74-43c1-9da5-f52d4b03568c",
   "metadata": {},
   "outputs": [],
   "source": [
    "import sqlite3\n",
    "from sqlite3 import Error\n",
    "\n",
    "def create_sqlit_connection(DB_PATH_MLFLOW,DB_FILE_MLFLOW):\n",
    "    \"\"\" create a database connection to a SQLite database \"\"\"\n",
    "    conn = None\n",
    "# opening the conncetion for creating the sqlite db\n",
    "    try:\n",
    "        conn = sqlite3.connect(DB_PATH_MLFLOW,DB_FILE_MLFLOW)\n",
    "        print(sqlite3.version)\n",
    "# return an error if connection not established\n",
    "    except Error as e:\n",
    "        print(e)\n",
    "# closing the connection once the database is created\n",
    "    finally:\n",
    "        if conn:\n",
    "            conn.close()"
   ]
  },
  {
   "cell_type": "code",
   "execution_count": 4,
   "id": "742ea506-ae10-4f16-ae12-b6163f35e8a2",
   "metadata": {},
   "outputs": [],
   "source": [
    "from utils import *\n"
   ]
  },
  {
   "cell_type": "code",
   "execution_count": 5,
   "id": "08c290ce-4bf7-40be-9441-adfe1f190f9b",
   "metadata": {},
   "outputs": [],
   "source": [
    "encode_features()"
   ]
  },
  {
   "cell_type": "code",
   "execution_count": 6,
   "id": "ae7df290-7a81-4fa4-a8d0-c595787bce22",
   "metadata": {},
   "outputs": [
    {
     "name": "stderr",
     "output_type": "stream",
     "text": [
      "/opt/conda/lib/python3.8/site-packages/sklearn/utils/validation.py:72: DataConversionWarning: A column-vector y was passed when a 1d array was expected. Please change the shape of y to (n_samples, ), for example using ravel().\n",
      "  return f(**kwargs)\n",
      "Registered model 'LightGBM' already exists. Creating a new version of this model...\n",
      "2023/08/26 15:02:32 INFO mlflow.tracking._model_registry.client: Waiting up to 300 seconds for model version to finish creation.                     Model name: LightGBM, version 4\n",
      "Created version '4' of model 'LightGBM'.\n"
     ]
    }
   ],
   "source": [
    "get_trained_model()"
   ]
  },
  {
   "cell_type": "code",
   "execution_count": null,
   "id": "60b2215e-b973-4002-bdba-36968174d439",
   "metadata": {},
   "outputs": [],
   "source": [
    "#mlflow server --backend-store-uri='sqlite:////home/airflow/dags/Lead_scoring_training_pipeline/lead_scoring_mlflow_production.db' --default-artifact-root=\"./mlruns\" --port=6006 --host=0.0.0.0"
   ]
  }
 ],
 "metadata": {
  "kernelspec": {
   "display_name": "Python 3 (ipykernel)",
   "language": "python",
   "name": "python3"
  },
  "language_info": {
   "codemirror_mode": {
    "name": "ipython",
    "version": 3
   },
   "file_extension": ".py",
   "mimetype": "text/x-python",
   "name": "python",
   "nbconvert_exporter": "python",
   "pygments_lexer": "ipython3",
   "version": "3.8.12"
  }
 },
 "nbformat": 4,
 "nbformat_minor": 5
}
